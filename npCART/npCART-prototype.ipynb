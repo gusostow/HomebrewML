{
 "cells": [
  {
   "cell_type": "markdown",
   "metadata": {},
   "source": [
    "## To Dos\n",
    "\n",
    "- transfer to OOP format\n",
    "    - adhere to best practices for modularity\n",
    "- handle continuous predictors\n",
    "    - ^ + not necessarily split at all categorical levels of the split feature \n",
    "- regression\n",
    "- multiple stopping conditions\n",
    "- gini impurity option"
   ]
  },
  {
   "cell_type": "code",
   "execution_count": 1,
   "metadata": {
    "collapsed": true
   },
   "outputs": [],
   "source": [
    "import numpy as np\n",
    "import pandas as pd"
   ]
  },
  {
   "cell_type": "code",
   "execution_count": 2,
   "metadata": {
    "collapsed": false
   },
   "outputs": [],
   "source": [
    "y = np.random.choice([1,0], size = (100,))\n",
    "\n",
    "X = pd.DataFrame(np.random.choice([0, 1], size = (100, 5)), columns = list(\"ABCDE\"))"
   ]
  },
  {
   "cell_type": "code",
   "execution_count": 4,
   "metadata": {
    "collapsed": true
   },
   "outputs": [],
   "source": [
    "def entropy(y):\n",
    "    total = y.size\n",
    "    value_counts = np.bincount(y).astype(\"float\")\n",
    "    proportions = value_counts / y.size\n",
    "    \n",
    "    return sum(-i * np.log(i) for i in proportions if i)"
   ]
  },
  {
   "cell_type": "code",
   "execution_count": 17,
   "metadata": {
    "collapsed": false
   },
   "outputs": [],
   "source": [
    "def classify(series, tree):\n",
    "    feature = tree[0]\n",
    "    subtree = tree[1]\n",
    "    \n",
    "    answer = series[feature]\n",
    "    response = subtree[answer]\n",
    "    \n",
    "    if type(response) != list: #base case\n",
    "        return subtree[answer]\n",
    "    else:\n",
    "        return classify(series, response) #recursive case\n",
    "    \n",
    "def ClassifyFrame(frame, tree):\n",
    "    yhat = frame.apply(lambda x: classify(x, tree), axis = 1)\n",
    "    return yhat"
   ]
  },
  {
   "cell_type": "code",
   "execution_count": 9,
   "metadata": {
    "collapsed": false
   },
   "outputs": [],
   "source": [
    "def gain(X, y, column):\n",
    "    prior_entropy = entropy(y)\n",
    "    total = y.size\n",
    "    \n",
    "    values = X[column].unique()\n",
    "    proportions = X[column].value_counts() / total\n",
    "    return prior_entropy - sum(proportions[i] * \\\n",
    "               entropy(y[np.array(X[column]) == i]) for i in values)"
   ]
  },
  {
   "cell_type": "code",
   "execution_count": 34,
   "metadata": {
    "collapsed": true
   },
   "outputs": [],
   "source": [
    "def GrowTree(X, y, candidates = None):\n",
    "    \n",
    "    if not candidates: # all columns are candidates2\n",
    "        candidates = X.columns.tolist()   \n",
    "    #should this be a leaf node?\n",
    "    unique = np.unique(y)\n",
    "    counts = np.bincount(y)\n",
    "    nonzero_ind = np.nonzero(counts)[0]\n",
    "    \n",
    "    if nonzero_ind.size == 1:\n",
    "        return unique[0] #base case: return pure outcome\n",
    "    elif len(candidates) == 1:\n",
    "        return unique[np.argmax(counts)] #base case: return mode outcome\n",
    "    \n",
    "    #choose a feature to split on\n",
    "    gains = zip(candidates, map(lambda x: gain(X, y, x), candidates))\n",
    "    split_feature = sorted(gains,  # choose feature with largest info gain \n",
    "                           key = lambda x: x[1], \n",
    "                           reverse = True)[0][0]\n",
    "    \n",
    "    #prepare new candidates for recursive call\n",
    "    new_candidates = [i for i in candidates if i != split_feature]\n",
    "    levels = X[split_feature].unique().tolist()\n",
    "    \n",
    "    subtree = {}\n",
    "    \n",
    "    for level in levels:\n",
    "        \n",
    "        X_with_level = X.loc[X[split_feature] == level, :] \n",
    "        y_with_level = y[np.array(X[split_feature] == level)]\n",
    "        subtree[level] = GrowTree(X_with_level, \n",
    "                                   y_with_level, \n",
    "                                   new_candidates) #recursive call\n",
    "        \n",
    "    return [split_feature, subtree]\n",
    "       "
   ]
  },
  {
   "cell_type": "code",
   "execution_count": 12,
   "metadata": {
    "collapsed": false
   },
   "outputs": [
    {
     "data": {
      "text/plain": [
       "['C',\n",
       " {0: ['A',\n",
       "   {0: ['E', {0: ['B', {0: 1, 1: 0}], 1: ['B', {0: 0, 1: 0}]}],\n",
       "    1: ['B', {0: ['D', {0: 0, 1: 0}], 1: ['D', {0: 1, 1: 1}]}]}],\n",
       "  1: ['B',\n",
       "   {0: ['E', {0: ['A', {0: 1, 1: 0}], 1: ['A', {0: 0, 1: 0}]}],\n",
       "    1: ['E', {0: ['D', {0: 0, 1: 0}], 1: ['A', {0: 0, 1: 0}]}]}]}]"
      ]
     },
     "execution_count": 12,
     "metadata": {},
     "output_type": "execute_result"
    }
   ],
   "source": [
    "built_tree = GrowTree(X, y)\n",
    "built_tree"
   ]
  },
  {
   "cell_type": "code",
   "execution_count": 25,
   "metadata": {
    "collapsed": false
   },
   "outputs": [],
   "source": [
    "yhat = ClassifyFrame(X, built_tree)\n",
    "X[\"y\"] = y"
   ]
  },
  {
   "cell_type": "code",
   "execution_count": 37,
   "metadata": {
    "collapsed": false
   },
   "outputs": [
    {
     "data": {
      "text/plain": [
       "0.48999999999999999"
      ]
     },
     "execution_count": 37,
     "metadata": {},
     "output_type": "execute_result"
    }
   ],
   "source": [
    "np.mean(y == np.random.choice([0,1]))"
   ]
  },
  {
   "cell_type": "code",
   "execution_count": null,
   "metadata": {
    "collapsed": true
   },
   "outputs": [],
   "source": []
  }
 ],
 "metadata": {
  "anaconda-cloud": {},
  "kernelspec": {
   "display_name": "Python [dsi]",
   "language": "python",
   "name": "Python [dsi]"
  },
  "language_info": {
   "codemirror_mode": {
    "name": "ipython",
    "version": 2
   },
   "file_extension": ".py",
   "mimetype": "text/x-python",
   "name": "python",
   "nbconvert_exporter": "python",
   "pygments_lexer": "ipython2",
   "version": "2.7.12"
  }
 },
 "nbformat": 4,
 "nbformat_minor": 0
}
