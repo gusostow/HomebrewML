{
 "cells": [
  {
   "cell_type": "code",
   "execution_count": 4,
   "metadata": {
    "collapsed": true
   },
   "outputs": [],
   "source": [
    "import numpy as np\n",
    "import pandas as pd\n"
   ]
  },
  {
   "cell_type": "code",
   "execution_count": 5,
   "metadata": {
    "collapsed": false
   },
   "outputs": [],
   "source": [
    "iris = datasets.load_iris()"
   ]
  },
  {
   "cell_type": "code",
   "execution_count": 6,
   "metadata": {
    "collapsed": true
   },
   "outputs": [],
   "source": [
    "def sigmoid(x):\n",
    "    \"\"\"\n",
    "    Inputs\n",
    "        X: Any real value function\n",
    "    Outputs\n",
    "        A number between 0 and 1\n",
    "    \"\"\"\n",
    "    return 1 / (1 + np.exp(-1 * x))"
   ]
  },
  {
   "cell_type": "code",
   "execution_count": 179,
   "metadata": {
    "collapsed": true
   },
   "outputs": [],
   "source": [
    "def getLoss(X, y, w):\n",
    "    \"\"\"\n",
    "    Compute loss\n",
    "    \"\"\"\n",
    "    N = X.shape[0]\n",
    "    \n",
    "    #make predictions\n",
    "    y_hat = sigmoid(np.dot(X, w))\n",
    "    Loss =  (1.0 / N) *  (np.dot(y, -1 * np.log(y_hat)) + np.dot(1 - y, -1 * np.log(1 - y_hat)))\n",
    "    return Loss\n",
    "    "
   ]
  },
  {
   "cell_type": "code",
   "execution_count": 182,
   "metadata": {
    "collapsed": true
   },
   "outputs": [],
   "source": [
    "def getGrad(X, y, w):\n",
    "    \"\"\"\n",
    "    Compute gradient\n",
    "    \"\"\"\n",
    "    N = X.shape[0]\n",
    "    \n",
    "    grad = np.zeros(w.shape[0])\n",
    "    \n",
    "    delta = y - sigmoid(np.dot(X, w))\n",
    "    \n",
    "    #sum up the difference between y and y_hat accross all rows for each parameter\n",
    "    for i in range(grad.size):\n",
    "        grad[i] = (-1.0 / N) * np.dot(delta.T, X[:, i])\n",
    "    \n",
    "    return grad\n",
    "    "
   ]
  },
  {
   "cell_type": "code",
   "execution_count": 183,
   "metadata": {
    "collapsed": false
   },
   "outputs": [],
   "source": [
    "def fit(X, y, lr, e):\n",
    "    \"\"\"\n",
    "    Compute optimal parameters for Logistic Regression using gradient descent\n",
    "    \n",
    "    Inputs\n",
    "        X: Numpy array of numeric or dummy coded predictor columns\n",
    "        y: Binary outcome column\n",
    "    Output\n",
    "        w = weight vector of parameters \n",
    "    \"\"\"\n",
    "    #initialize global variables\n",
    "    update_norm = np.inf\n",
    "    w = np.random.random(X.shape[1])\n",
    "    epoch = 0\n",
    "    \n",
    "    while update_norm > e:\n",
    "        \n",
    "        grad = getGrad(X, y, w)\n",
    "        update =  -1 * lr * grad\n",
    "        print \"update: \", update\n",
    "        w += update\n",
    "        epoch += 1\n",
    "        update_norm = np.linalg.norm(update)\n",
    "        print \"norm: \", update_norm\n",
    "        print \"loss: \", getLoss(X,y, w)\n",
    "        print \"----\"\n",
    "        if epoch > 1000:\n",
    "            break\n",
    "    \n",
    "    print \"Parameters were optimized after\", epoch, \"epochs!\""
   ]
  },
  {
   "cell_type": "code",
   "execution_count": 72,
   "metadata": {
    "collapsed": false
   },
   "outputs": [
    {
     "name": "stdout",
     "output_type": "stream",
     "text": [
      "(150,)\n",
      "(150,)\n"
     ]
    },
    {
     "data": {
      "text/plain": [
       "array([ 0.54290304, -0.13896844,  1.37016705,  0.59597108])"
      ]
     },
     "execution_count": 72,
     "metadata": {},
     "output_type": "execute_result"
    }
   ],
   "source": [
    "getGrad(X, y, w)"
   ]
  },
  {
   "cell_type": "code",
   "execution_count": 43,
   "metadata": {
    "collapsed": false
   },
   "outputs": [
    {
     "data": {
      "text/plain": [
       "(150,)"
      ]
     },
     "execution_count": 43,
     "metadata": {},
     "output_type": "execute_result"
    }
   ],
   "source": [
    "sigmoid(np.dot(X, w)).shape"
   ]
  },
  {
   "cell_type": "code",
   "execution_count": 82,
   "metadata": {
    "collapsed": false
   },
   "outputs": [],
   "source": [
    "a = np.empty((4))\n",
    "a[:] = np.inf"
   ]
  },
  {
   "cell_type": "code",
   "execution_count": 83,
   "metadata": {
    "collapsed": false,
    "scrolled": true
   },
   "outputs": [
    {
     "data": {
      "text/plain": [
       "array([ inf,  inf,  inf,  inf])"
      ]
     },
     "execution_count": 83,
     "metadata": {},
     "output_type": "execute_result"
    }
   ],
   "source": [
    "a"
   ]
  },
  {
   "cell_type": "code",
   "execution_count": 174,
   "metadata": {
    "collapsed": false
   },
   "outputs": [],
   "source": [
    "X = iris.values()[1]\n",
    "y = iris.target.reshape(-1, 1)\n",
    "\n",
    "XY = pd.DataFrame(np.hstack((X,y)), columns = range(5))\n",
    "XY = XY.loc[XY[4] != 2, :]\n",
    "X = XY.drop(4, axis = 1).values\n",
    "y = XY[4].values"
   ]
  },
  {
   "cell_type": "code",
   "execution_count": 193,
   "metadata": {
    "collapsed": false
   },
   "outputs": [
    {
     "name": "stdout",
     "output_type": "stream",
     "text": [
      "update:  [-2.47855994 -1.69313589 -0.72383271 -0.12045088]\n",
      "norm:  3.09005027582\n",
      "loss:  7.69179499184\n",
      "----\n",
      "update:  [ 2.96799678  1.38499811  2.12999856  0.66299964]\n",
      "norm:  3.96278778693\n",
      "loss:  4.18771298738\n",
      "----\n",
      "update:  [-2.50231278 -1.70853526 -0.73180351 -0.12196962]\n",
      "norm:  3.11946709783\n",
      "loss:  3.42158567038\n",
      "----\n",
      "update:  [ 2.9640013   1.38312591  2.12705867  0.66208196]\n",
      "norm:  3.95740724654\n",
      "loss:  5.8742788082\n",
      "----\n",
      "update:  [-2.50297066 -1.70897987 -0.73199186 -0.12199876]\n",
      "norm:  3.12028366194\n",
      "loss:  0.120767725317\n",
      "----\n",
      "update:  [ 0.57898024  0.27135262  0.39809349  0.12353464]\n",
      "norm:  0.763275572375\n",
      "loss:  0.0247004300016\n",
      "----\n",
      "update:  [-0.1109525  -0.07453124 -0.03351009 -0.00546744]\n",
      "norm:  0.137906425907\n",
      "loss:  0.0120887647578\n",
      "----\n",
      "update:  [-0.04341851 -0.03032819 -0.0108301  -0.00111283]\n",
      "norm:  0.054069358724\n",
      "loss:  0.00976144855513\n",
      "----\n",
      "update:  [-0.02607735 -0.01942321 -0.00424076  0.00033914]\n",
      "norm:  0.0327931154215\n",
      "loss:  0.00886919460061\n",
      "----\n",
      "update:  [-0.01696463 -0.01385768 -0.00048534  0.00123031]\n",
      "norm:  0.0219450045192\n",
      "loss:  0.00845819114958\n",
      "----\n",
      "update:  [-0.01143515 -0.0105454   0.00190947  0.00182195]\n",
      "norm:  0.0157776287019\n",
      "loss:  0.00823876770916\n",
      "----\n",
      "update:  [-0.00790543 -0.00845207  0.00347584  0.00221623]\n",
      "norm:  0.0122852124265\n",
      "loss:  0.00810066207419\n",
      "----\n",
      "update:  [-0.00560802 -0.00709153  0.00449852  0.00247441]\n",
      "norm:  0.0103970696684\n",
      "loss:  0.00799831552002\n",
      "----\n",
      "update:  [-0.00409999 -0.00619225  0.00515815  0.00263896]\n",
      "norm:  0.00941936623729\n",
      "loss:  0.00791229790975\n",
      "----\n",
      "Parameters were optimized after 14 epochs!\n"
     ]
    }
   ],
   "source": [
    "fit(X, y, 1, 0.01)"
   ]
  },
  {
   "cell_type": "code",
   "execution_count": 137,
   "metadata": {
    "collapsed": false
   },
   "outputs": [
    {
     "data": {
      "text/plain": [
       "1.0356966726655659"
      ]
     },
     "execution_count": 137,
     "metadata": {},
     "output_type": "execute_result"
    }
   ],
   "source": [
    "(1.0 / 100) *  (np.dot(y, -1 * np.log(y_hat)) + np.dot(1 - y, -1 *np.log(1 - y_hat)))"
   ]
  },
  {
   "cell_type": "code",
   "execution_count": 180,
   "metadata": {
    "collapsed": false
   },
   "outputs": [
    {
     "data": {
      "text/plain": [
       "2.64517076490896"
      ]
     },
     "execution_count": 180,
     "metadata": {},
     "output_type": "execute_result"
    }
   ],
   "source": [
    "getLoss(X, y, w)"
   ]
  },
  {
   "cell_type": "markdown",
   "metadata": {
    "collapsed": true
   },
   "source": [
    "# testing class"
   ]
  },
  {
   "cell_type": "code",
   "execution_count": 1,
   "metadata": {
    "collapsed": false
   },
   "outputs": [],
   "source": [
    "from npLogistic import BinaryLogistic\n",
    "from sklearn import datasets\n",
    "import numpy as np"
   ]
  },
  {
   "cell_type": "code",
   "execution_count": 2,
   "metadata": {
    "collapsed": false
   },
   "outputs": [],
   "source": [
    "iris = datasets.load_iris()\n",
    "\n",
    "X = iris.values()[1]\n",
    "y = np.random.randint(0, 2, size = X.shape[0])"
   ]
  },
  {
   "cell_type": "code",
   "execution_count": 3,
   "metadata": {
    "collapsed": false
   },
   "outputs": [],
   "source": [
    "log = BinaryLogistic()"
   ]
  },
  {
   "cell_type": "code",
   "execution_count": 4,
   "metadata": {
    "collapsed": false
   },
   "outputs": [
    {
     "name": "stdout",
     "output_type": "stream",
     "text": [
      "Parameters were optimized after 1001 epochs!\n"
     ]
    }
   ],
   "source": [
    "log.fit(X, y)"
   ]
  },
  {
   "cell_type": "code",
   "execution_count": 20,
   "metadata": {
    "collapsed": false
   },
   "outputs": [
    {
     "data": {
      "text/plain": [
       "150"
      ]
     },
     "execution_count": 20,
     "metadata": {},
     "output_type": "execute_result"
    }
   ],
   "source": [
    "proba = log.predict_proba(X)\n",
    "mask = proba >= 0.5\n",
    "\n",
    "mask.size"
   ]
  },
  {
   "cell_type": "code",
   "execution_count": 19,
   "metadata": {
    "collapsed": false
   },
   "outputs": [
    {
     "data": {
      "text/plain": [
       "array([ 0.,  0.,  0.,  0.,  0.,  0.,  0.,  0.,  0.,  0.,  0.,  0.,  0.,\n",
       "        0.,  0.,  0.,  0.,  0.,  0.,  0.,  0.,  0.,  0.,  0.,  0.,  0.,\n",
       "        0.,  0.,  0.,  0.,  0.,  0.,  0.,  0.,  0.,  0.,  0.,  0.,  0.,\n",
       "        0.,  0.,  0.,  0.,  0.,  0.,  0.,  0.,  0.,  0.,  0.,  0.,  0.,\n",
       "        0.,  0.,  0.,  0.,  0.,  0.,  0.,  0.,  0.,  0.,  0.,  0.,  0.,\n",
       "        0.,  0.,  0.,  0.,  0.,  0.,  0.,  0.,  0.,  0.,  0.,  0.,  0.,\n",
       "        0.,  0.,  0.,  0.,  0.,  0.,  0.,  0.,  0.,  0.,  0.,  0.,  0.,\n",
       "        0.,  0.,  0.,  0.,  0.,  0.,  0.,  0.,  0.,  0.,  0.,  0.,  0.,\n",
       "        0.,  0.,  0.,  0.,  0.,  0.,  0.,  0.,  0.,  0.,  0.,  0.,  0.,\n",
       "        0.,  0.,  0.,  0.,  0.,  0.,  0.,  0.,  0.,  0.,  0.,  0.,  0.,\n",
       "        0.,  0.,  0.,  0.,  0.,  0.,  0.,  0.,  0.,  0.,  0.,  0.,  0.,\n",
       "        0.,  0.,  0.,  0.,  0.,  0.,  0.])"
      ]
     },
     "execution_count": 19,
     "metadata": {},
     "output_type": "execute_result"
    }
   ],
   "source": [
    "np.where(mask, np.ones(proba.shape[0]), np.zeros(proba.shape[0]))"
   ]
  },
  {
   "cell_type": "code",
   "execution_count": null,
   "metadata": {
    "collapsed": true
   },
   "outputs": [],
   "source": []
  }
 ],
 "metadata": {
  "anaconda-cloud": {},
  "kernelspec": {
   "display_name": "Python [keras]",
   "language": "python",
   "name": "Python [keras]"
  },
  "language_info": {
   "codemirror_mode": {
    "name": "ipython",
    "version": 2
   },
   "file_extension": ".py",
   "mimetype": "text/x-python",
   "name": "python",
   "nbconvert_exporter": "python",
   "pygments_lexer": "ipython2",
   "version": "2.7.12"
  }
 },
 "nbformat": 4,
 "nbformat_minor": 0
}
